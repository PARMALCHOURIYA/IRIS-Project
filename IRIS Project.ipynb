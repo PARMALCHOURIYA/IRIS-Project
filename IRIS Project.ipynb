{
 "cells": [
  {
   "cell_type": "code",
   "execution_count": 71,
   "id": "a4aa5000",
   "metadata": {
    "scrolled": true
   },
   "outputs": [
    {
     "name": "stdout",
     "output_type": "stream",
     "text": [
      "LR: 0.941667 (0.065085)\n",
      "LDA: 0.975000 (0.038188)\n",
      "KNN: 0.958333 (0.041667)\n",
      "CART: 0.941667 (0.038188)\n",
      "NB: 0.950000 (0.055277)\n",
      "SVM: 0.983333 (0.033333)\n",
      "0.9666666666666667\n",
      "[[11  0  0]\n",
      " [ 0 12  1]\n",
      " [ 0  0  6]]\n",
      "                 precision    recall  f1-score   support\n",
      "\n",
      "    Iris-setosa       1.00      1.00      1.00        11\n",
      "Iris-versicolor       1.00      0.92      0.96        13\n",
      " Iris-virginica       0.86      1.00      0.92         6\n",
      "\n",
      "       accuracy                           0.97        30\n",
      "      macro avg       0.95      0.97      0.96        30\n",
      "   weighted avg       0.97      0.97      0.97        30\n",
      "\n",
      "['Iris-versicolor' 'Iris-versicolor']\n"
     ]
    },
    {
     "data": {
      "image/png": "[encoded data removed]",
      "text/plain": [
       "<Figure size 432x288 with 1 Axes>"
      ]
     },
     "metadata": {
      "needs_background": "light"
     },
     "output_type": "display_data"
    }
   ],
   "source": [
    "# Load libraries\n",
    "from pandas import read_csv\n",
    "from pandas.plotting import scatter_matrix\n",
    "from matplotlib import pyplot\n",
    "from sklearn.model_selection import train_test_split\n",
    "from sklearn.model_selection import cross_val_score\n",
    "from sklearn.model_selection import StratifiedKFold\n",
    "from sklearn.metrics import classification_report\n",
    "from sklearn.metrics import confusion_matrix\n",
    "from sklearn.metrics import accuracy_score\n",
    "from sklearn.linear_model import LogisticRegression\n",
    "from sklearn.tree import DecisionTreeClassifier\n",
    "from sklearn.neighbors import KNeighborsClassifier\n",
    "from sklearn.discriminant_analysis import LinearDiscriminantAnalysis\n",
    "from sklearn.naive_bayes import GaussianNB\n",
    "from sklearn.svm import SVC\n",
    "import joblib\n",
    "\n",
    "# Load dataset\n",
    "url = \"https://raw.githubusercontent.com/jbrownlee/Datasets/master/iris.csv\"\n",
    "names = ['sepal-length', 'sepal-width', 'petal-length', 'petal-width', 'class']\n",
    "dataset = read_csv(url, names=names)\n",
    "\n",
    "#shape\n",
    "#print(dataset.shape)\n",
    "#head\n",
    "#print(dataset.head(20))\n",
    "#descriptions\n",
    "#print(dataset.describe())\n",
    "\n",
    "# #Class Distribution\n",
    "# print(dataset.groupby('class').size())\n",
    "\n",
    "# # box and whisker plots\n",
    "# dataset.plot(kind='box',subplots=True, layout=(2,2),sharex=False,sharey=False)\n",
    "# pyplot.show()\n",
    "\n",
    "# # histograms\n",
    "# dataset.hist()\n",
    "# pyplot.show()\n",
    "\n",
    "# # scatter plot matrix\n",
    "# scatter_matrix(dataset)\n",
    "# pyplot.show()\n",
    "\n",
    "# split out validation data\n",
    "array=dataset.values\n",
    "X=array[:,0:4]\n",
    "y=array[:,4]\n",
    "X_train,X_validation,Y_train,Y_validation=train_test_split(X,y,test_size=0.2,random_state=1)\n",
    "\n",
    "# spot check algorythms\n",
    "models=[]\n",
    "models.append(('LR',LogisticRegression(solver='liblinear',multi_class='ovr')))\n",
    "models.append(('LDA',LinearDiscriminantAnalysis()))\n",
    "models.append(('KNN',KNeighborsClassifier()))\n",
    "models.append(('CART',DecisionTreeClassifier()))\n",
    "models.append(('NB', GaussianNB()))\n",
    "models.append(('SVM',SVC(gamma='auto')))\n",
    "# Evaluate each model in turn\n",
    "results=[]\n",
    "names=[]\n",
    "for name, model in models:\n",
    "    kfold=StratifiedKFold(n_splits=10,random_state=1,shuffle=True)\n",
    "    cv_results=cross_val_score(model,X_train,Y_train,cv=kfold,scoring='accuracy')\n",
    "    results.append(cv_results)\n",
    "    names.append(name)\n",
    "    print('%s: %f (%f)' %(name,cv_results.mean(),cv_results.std()))\n",
    "#Compare algorythms\n",
    "pyplot.boxplot(results,labels=names)\n",
    "pyplot.title('Algorithm comparisom')\n",
    "    \n",
    "# Make predictions on validation dataset\n",
    "model = SVC(gamma='auto')\n",
    "model.fit(X_train,Y_train)\n",
    "filenam='file_of_trained_model.sav'\n",
    "joblib.dump(model,filenam)\n",
    "\n",
    "\n",
    "loaded_model=joblib.load('file_of_trained_model.sav')\n",
    "predictions = loaded_model.predict(X_validation)\n",
    "#Evaluate predictions\n",
    "print(accuracy_score(Y_validation,predictions))\n",
    "print(confusion_matrix(Y_validation,predictions))\n",
    "print(classification_report(Y_validation,predictions))\n",
    "# Predict any data from model   \n",
    "X_new = [[5,2.06,3.7,1.1],[5.9,3,4.2,1.5]]\n",
    "Y_new=loaded_model.predict(X_new)\n",
    "print(Y_new)\n",
    "\n",
    "# #Predict probability of it being of various classes\n",
    "# Y_prob=loaded_model.predict_proba(X_new)\n",
    "# print(Y_prob)         #MAy be not available for SVM\n",
    "\n"
   ]
  },
  {
   "cell_type": "code",
   "execution_count": null,
   "id": "93a8e63a",
   "metadata": {},
   "outputs": [],
   "source": []
  }
 ],
 "metadata": {
  "kernelspec": {
   "display_name": "Python 3 (ipykernel)",
   "language": "python",
   "name": "python3"
  },
  "language_info": {
   "codemirror_mode": {
    "name": "ipython",
    "version": 3
   },
   "file_extension": ".py",
   "mimetype": "text/x-python",
   "name": "python",
   "nbconvert_exporter": "python",
   "pygments_lexer": "ipython3",
   "version": "3.9.12"
  }
 },
 "nbformat": 4,
 "nbformat_minor": 5
}
